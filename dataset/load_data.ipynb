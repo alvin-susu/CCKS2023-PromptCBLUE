{
 "cells": [
  {
   "cell_type": "code",
   "id": "initial_id",
   "metadata": {
    "collapsed": true,
    "ExecuteTime": {
     "end_time": "2025-02-17T12:43:05.724924Z",
     "start_time": "2025-02-17T12:43:05.711262Z"
    }
   },
   "source": [
    "import json\n",
    "import os\n",
    "import pathlib"
   ],
   "outputs": [],
   "execution_count": 5
  },
  {
   "metadata": {
    "ExecuteTime": {
     "end_time": "2025-02-17T12:43:06.247884Z",
     "start_time": "2025-02-17T12:43:06.240758Z"
    }
   },
   "cell_type": "code",
   "source": [
    "import json\n",
    "\n",
    "\n",
    "def extract_data_to_json(file_name: str, file_path: str):\n",
    "    datas = []\n",
    "    sentences = []  # 存储每个句子\n",
    "\n",
    "    # 读取文件并按行处理\n",
    "    with open(file_path, 'r', encoding='utf-8') as file:\n",
    "        current_sentence = []\n",
    "        for line in file:\n",
    "            line = line.strip()\n",
    "            if line == '':\n",
    "                if current_sentence:\n",
    "                    sentences.append(current_sentence)\n",
    "                    current_sentence = []  # 新的一句\n",
    "            else:\n",
    "                current_sentence.append(line)\n",
    "        if current_sentence:\n",
    "            sentences.append(current_sentence)  # 添加最后一句\n",
    "\n",
    "    # 处理每个句子\n",
    "    json_data = []\n",
    "    for sentence in sentences:\n",
    "        sentence_text = ' '.join([s.split(' ')[0] for s in sentence])  # 拼接出完整的句子\n",
    "        datas = []\n",
    "\n",
    "        # 解析句子中的标签\n",
    "        for line in sentence:\n",
    "            parts = line.split(' ')\n",
    "            if len(parts) == 2:\n",
    "                word, label = parts\n",
    "                datas.append((word, label))\n",
    "\n",
    "        entities = []\n",
    "        current_entity = []\n",
    "        current_label = None\n",
    "\n",
    "        for word, label in datas:\n",
    "            if label.startswith('B-'):  # B-开头表示实体的开始\n",
    "                if current_entity:\n",
    "                    entities.append((''.join(current_entity), current_label))  # 处理上一个实体\n",
    "                current_entity = [word]\n",
    "                current_label = label[2:]  # 获取实体标签\n",
    "            elif label.startswith('I-') and current_entity:  # I-表示实体的内部部分\n",
    "                current_entity.append(word)\n",
    "            elif label == 'O' and current_entity:  # O表示没有实体\n",
    "                entities.append((''.join(current_entity), current_label))\n",
    "                current_entity = []\n",
    "                current_label = None\n",
    "\n",
    "        if current_entity:\n",
    "            entities.append((''.join(current_entity), current_label))\n",
    "\n",
    "        # 创建target字符串\n",
    "        target_str = \"\"\n",
    "        for label, entity in entities:\n",
    "            target_str += f\"{entity}实体：{label}\\n\"\n",
    "\n",
    "        # 定义所有实体选项\n",
    "        answer_choices = [\"疾病\", \"医学检验项目\", \"医院科室\", \"身体部位\", \"微生物类\", \"临床表现\", \"药物\", \"西医治疗\", \"中医诊断\", \"西医诊断\"]\n",
    "\n",
    "        json_data.append({\n",
    "            \"input\": sentence_text.replace(' ',''),\n",
    "            \"target\": target_str.strip(),\n",
    "            \"answer_choices\": answer_choices\n",
    "        })\n",
    "\n",
    "    # 将结果写入文件\n",
    "    with open(file_name, 'w', encoding='utf-8') as file:\n",
    "        json.dump(json_data, file, ensure_ascii=False, indent=4)\n"
   ],
   "id": "31ae931f3bb6bbf3",
   "outputs": [],
   "execution_count": 6
  },
  {
   "metadata": {
    "ExecuteTime": {
     "end_time": "2025-02-17T12:43:07.301910Z",
     "start_time": "2025-02-17T12:43:07.298965Z"
    }
   },
   "cell_type": "code",
   "source": [
    "def extract_all_labels(file_path: str):\n",
    "    all_labels = set()  # 用于存储所有标签\n",
    "\n",
    "    # 读取文件并按行处理\n",
    "    with open(file_path, 'r', encoding='utf-8') as file:\n",
    "        for line in file:\n",
    "            line = line.strip()\n",
    "            if line:  # 忽略空行\n",
    "                parts = line.split(' ')\n",
    "                if len(parts) == 2:\n",
    "                    word, label = parts\n",
    "                    if label != 'O':  # 只处理非'O'标签\n",
    "                        all_labels.add(label[2:])  # 去掉'B-'或'I-'前缀，只保留标签名\n",
    "\n",
    "    return list(all_labels)"
   ],
   "id": "4998b146d3dad3ac",
   "outputs": [],
   "execution_count": 7
  },
  {
   "metadata": {
    "ExecuteTime": {
     "end_time": "2025-02-17T12:43:08.885930Z",
     "start_time": "2025-02-17T12:43:08.716547Z"
    }
   },
   "cell_type": "code",
   "source": [
    "directory = \"./medician\"\n",
    "save_dir = \"./medician_json\"\n",
    "data_map = {path_name.split(\".\")[-1] + \".json\": os.path.abspath(os.path.join(directory, path_name)) for path_name in\n",
    "            os.listdir(directory)}\n",
    "print(data_map)\n",
    "\n",
    "for file_name, abspath in data_map.items():\n",
    "    extract_data_to_json(os.path.join(os.path.abspath(save_dir), file_name), abspath)"
   ],
   "id": "cd1dd4dc92bee908",
   "outputs": [
    {
     "name": "stdout",
     "output_type": "stream",
     "text": [
      "{'dev.json': 'D:\\\\pycharm_project\\\\CCKS2023-PromptCBLUE\\\\dataset\\\\medician\\\\medical.dev', 'test.json': 'D:\\\\pycharm_project\\\\CCKS2023-PromptCBLUE\\\\dataset\\\\medician\\\\medical.test', 'train.json': 'D:\\\\pycharm_project\\\\CCKS2023-PromptCBLUE\\\\dataset\\\\medician\\\\medical.train'}\n"
     ]
    }
   ],
   "execution_count": 8
  },
  {
   "metadata": {},
   "cell_type": "code",
   "outputs": [],
   "execution_count": null,
   "source": "",
   "id": "f607f364db0866d0"
  }
 ],
 "metadata": {
  "kernelspec": {
   "display_name": "Python 3",
   "language": "python",
   "name": "python3"
  },
  "language_info": {
   "codemirror_mode": {
    "name": "ipython",
    "version": 2
   },
   "file_extension": ".py",
   "mimetype": "text/x-python",
   "name": "python",
   "nbconvert_exporter": "python",
   "pygments_lexer": "ipython2",
   "version": "2.7.6"
  }
 },
 "nbformat": 4,
 "nbformat_minor": 5
}
